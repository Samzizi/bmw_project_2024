{
  "cells": [
    {
      "cell_type": "markdown",
      "metadata": {
        "id": "RsDNkp6aYxgR"
      },
      "source": [
        "Hello\n",
        "Welcome to my bmw project"
      ]
    },
    {
      "cell_type": "markdown",
      "metadata": {
        "id": "lmWVuz2aXxyE"
      },
      "source": [
        "This weeks assignment:\n",
        "i did it with BMW cars instead of Mercedes Benz cars\n",
        "enjoy!"
      ]
    },
    {
      "cell_type": "code",
      "execution_count": null,
      "metadata": {
        "id": "-2fXCSYs-_HK"
      },
      "outputs": [],
      "source": [
        "import matplotlib.pyplot as plt"
      ]
    },
    {
      "cell_type": "code",
      "execution_count": null,
      "metadata": {
        "id": "z7l-Al145trk"
      },
      "outputs": [],
      "source": [
        "class BMWCars:\n",
        "    Brand = \"BMW\"\n",
        "    Dollar_sign = \"$\"\n",
        "    cars_made = {}\n",
        "\n",
        "    def __init__(self, model, price, horsepower, year):\n",
        "        self.model = model\n",
        "        self.price = price\n",
        "        self.horsepower = horsepower\n",
        "        self.year = year\n",
        "        self.update_cars_made()\n",
        "\n",
        "    def update_cars_made(self):\n",
        "        if self.model not in self.cars_made:\n",
        "            self.cars_made[self.model] = 1\n",
        "        else:\n",
        "            self.cars_made[self.model] += 1\n",
        "\n",
        "    def car_info(self):\n",
        "        if self.model.lower() == \"bmw\":\n",
        "            print(\"Do not include the brand's name in the model's name. Please only enter the car model's name, nothing more.\")\n",
        "        else:\n",
        "            print(f\"This is a {self.Brand} {self.model} and it costs {self.price}{self.Dollar_sign}. It has {self.horsepower} horsepower and it was distributed in {self.year}.\")\n",
        "\n",
        "    @classmethod\n",
        "    def bar_cars_made(cls):\n",
        "        models = list(cls.cars_made.keys())\n",
        "        counts = list(cls.cars_made.values())\n",
        "        colors = [\"red\", \"green\", \"blue\", \"yellow\", \"orange\"][:len(models)]\n",
        "        plt.bar(models, counts, color=colors)\n",
        "        plt.xlabel(\"BMW Models\")\n",
        "        plt.ylabel(\"BMW Cars Made\")\n",
        "        plt.title(\"BMW Cars\")\n",
        "        plt.show()\n",
        "\n",
        "class BMWSedans(BMWCars):\n",
        "  def __init__(self, model, price, horsepower, year, doors, cabin_size):\n",
        "      super().__init__(model, price, horsepower, year)\n",
        "      self.doors = doors\n",
        "      self.cabin_size = cabin_size\n",
        "\n",
        "  def sedan_info(self):\n",
        "      available_options_sed = (\"small\", \"medium\", \"large\", \"big\", \"s\", \"m\", \"l\")\n",
        "      if self.cabin_size not in available_options_sed:\n",
        "        print(\"Invalid input, please choose small(s), medium(m) or large/big(l).\")\n",
        "      elif self.cabin_size in [\"small\", \"s\"]:\n",
        "        print(f\"This is a {self.Brand} {self.model} Sedan From the year {self.year} and it has {self.doors} doors, it also costs {self.price}{self.Dollar_sign} and the car also has {self.horsepower} horsepower, this car has a small cabin inside.\")\n",
        "      else:\n",
        "        print(f\"This is a {self.Brand} {self.model} Sedan From the year {self.year} and it has {self.doors} doors, it also costs {self.price}{self.Dollar_sign} and the car also has {self.horsepower} horsepower, this car has a large cabin inside.\")\n",
        "\n",
        "class BMW3Series(BMWSedans):\n",
        "    def __init__(self, model, price, horsepower, year, doors, cabin_size, fuel_type):\n",
        "        super().__init__(model, price, horsepower, year, doors, cabin_size)\n",
        "        self.fuel_type = fuel_type\n",
        "\n",
        "    def sedan_info(self):\n",
        "      super().sedan_info()\n",
        "      print(f\"This car runs on {self.fuel_type} fuel.\")\n",
        "\n",
        "class BMW5Series(BMWSedans):\n",
        "    def __init__(self, model, price, horsepower, year, doors, cabin_size, fuel_type, luxury_features):\n",
        "        super().__init__(model, price, horsepower, year, doors, cabin_size)\n",
        "        self.fuel_type = fuel_type\n",
        "        self.luxury_features = luxury_features\n",
        "\n",
        "    def sedan_info(self):\n",
        "      super().sedan_info()\n",
        "      print(f\"This car runs on {self.fuel_type} and has {self.luxury_features}.\")\n",
        "\n",
        "class BMW7Series(BMWSedans):\n",
        "    def __init__(self, model, price, horsepower, year, doors, cabin_size, fuel_type, advanced_features):\n",
        "        super().__init__(model, price, horsepower, year, doors, cabin_size)\n",
        "        self.fuel_type = fuel_type\n",
        "        self.advanced_features = advanced_features\n",
        "\n",
        "    def sedan_info(self):\n",
        "        super().sedan_info()\n",
        "        print(f\"This car runs on {self.fuel_type} and is a car with {self.advanced_features} advanced features.\")\n",
        "\n",
        "class BMWCoupes(BMWCars):\n",
        "  def __init__(self, model, price, horsepower, year, material, aerodynamic_features):\n",
        "      super().__init__(model, price, horsepower, year)\n",
        "      self.interior_material = material\n",
        "      self.aerodynamic_features = aerodynamic_features\n",
        "\n",
        "  def coupe_info(self):\n",
        "      aero_yes_no = [\"yes\", \"no\", \"y\", \"n\"]\n",
        "      if self.aerodynamic_features not in aero_yes_no:\n",
        "        print(\"Invalid input, please  choose yes(y) or no(n). \")\n",
        "      elif self.aerodynamic_features in [\"yes\", \"y\"]:\n",
        "        print(f\"This is a {self.Brand} {self.model} Coupe From the year {self.year} and it is made out of {self.interior_material}, the car costs {self.price}{self.Dollar_sign} and the car also has {self.horsepower} horsepower, this car has good aerodynamic features.\")\n",
        "      else:\n",
        "        print(f\"This is a {self.Brand} {self.model} Coupe From the year {self.year} and it is made out of {self.interior_material}, the car costs {self.price}{self.Dollar_sign} and the car also has {self.horsepower} horsepower.\")\n",
        "\n",
        "class BMW2Series(BMWCoupes):\n",
        "    def __init__(self, model, price, horsepower, year, material, aerodynamic_features, turbocharged_engine):\n",
        "        super().__init__(model, price, horsepower, year, material, aerodynamic_features)\n",
        "        self.turbocharged_engine = turbocharged_engine\n",
        "\n",
        "    def coupe_info(self):\n",
        "     super().coupe_info()\n",
        "     Turbo_yes_no = [\"yes\", \"y\", \"no\", \"n\"]\n",
        "     if self.turbocharged_engine not in Turbo_yes_no:\n",
        "      print(\"Invalid input, please choose yes(y) or no(n).\")\n",
        "     elif self.turbocharged_engine in [\"yes\", \"y\"]:\n",
        "      print(\"This is a TurboCharged Car\")\n",
        "     else:\n",
        "      print(\"This is not a TurboCharged Car\")\n",
        "\n",
        "class BMW4Series(BMWCoupes):\n",
        "    def __init__(self, model, price, horsepower, year, material, aerodynamic_features, advanced_driving_assistance):\n",
        "       super().__init__(model, price, horsepower, year, material, aerodynamic_features)\n",
        "       self.advanced_driving_assistance = advanced_driving_assistance\n",
        "\n",
        "    def coupe_info(self):\n",
        "      super().coupe_info()\n",
        "      driving_yes_no = [\"yes\", \"y\", \"no\", \"n\"]\n",
        "      if self.advanced_driving_assistance not in driving_yes_no:\n",
        "        print(\"Invalid input, please choose yes(y) or no(n).\")\n",
        "      elif self.advanced_driving_assistance in [\"yes\", \"y\"]:\n",
        "        print(\"This coupe includes advanced driving assistance.\")\n",
        "      else:\n",
        "        print(\"This coupe does not include advanced driving assistance\")\n",
        "\n",
        "class BMW8Series(BMWCoupes):\n",
        "  def __init__(self, model, price, horsepower, year, material, aerodynamic_features, luxurious_interior):\n",
        "      super().__init__(model, price, horsepower, year, material, aerodynamic_features)\n",
        "      self.luxurious_interior = luxurious_interior\n",
        "\n",
        "  def coupe_info(self):\n",
        "    super().coupe_info()\n",
        "    luxury_yes_no = [\"yes\", \"y\", \"no\", \"n\"]\n",
        "    if self.luxurious_interior not in luxury_yes_no:\n",
        "      print(\"Invalid input, please choose yes(y) or no(n).\")\n",
        "    elif self.luxurious_interior in [\"yes\", \"y\"]:\n",
        "      print(\"This coupe has a luxurios and beautiful interior.\")\n",
        "    else:\n",
        "      print(\"This coupe has a standard interior.\")\n",
        "\n",
        "class BMWSuvs(BMWCars):\n",
        "  def __init__(self, model, price, horsepower, year, seats, off_road_capability):\n",
        "    super().__init__(model, price, horsepower, year)\n",
        "    self.seats = seats\n",
        "    self.off_road_capability = off_road_capability\n",
        "\n",
        "  def suv_info(self):\n",
        "      yes_no_offroad = [\"yes\", \"y\", \"no\", \"n\"]\n",
        "      if self.off_road_capability not in yes_no_offroad:\n",
        "        print(\"Invalid input, please enter yes(y) or no(n).\")\n",
        "      elif self.off_road_capability in [\"yes\", \"y\"]:\n",
        "         print(f\"This is a {self.Brand} {self.model} SUV From the year {self.year} and it has {self.seats} seats, it also costs {self.price}{self.Dollar_sign} and the car also has {self.horsepower} horsepower, this car also has offroad capability \")\n",
        "      else:\n",
        "       print(f\"This is a {self.Brand} {self.model} SUV From the year {self.year} and it has {self.seats} seats, it also costs {self.price}{self.Dollar_sign} and the car also has {self.horsepower} horsepower. \")\n",
        "\n",
        "class BMWX1Series(BMWSuvs):\n",
        "  def __init__(self, model, price, horsepower, year, seats, off_road_capability, towing_capacity):\n",
        "      super().__init__(model, price, horsepower, year, seats, off_road_capability)\n",
        "      self. towing_capacity = towing_capacity\n",
        "\n",
        "  def suv_info(self):\n",
        "      super().suv_info()\n",
        "      print(f\"This car can tow {self.towing_capacity} kilos(kg)/pounds(lb).\")\n",
        "\n",
        "class BMWX2Series(BMWSuvs):\n",
        "   def __init__(self, model, price, horsepower, year, seats, off_road_capability, trunk_space):\n",
        "       super().__init__(model, price, horsepower, year, seats, off_road_capability)\n",
        "       self.trunk_space = trunk_space\n",
        "\n",
        "   def suv_info(self):\n",
        "       super().suv_info()\n",
        "       print(f\"This car has {self.trunk_space} of trunk space.\")\n",
        "\n",
        "class BMWX3Series(BMWSuvs):\n",
        "  def __init__(self, model, price, horsepower, year, seats, off_road_capability, drive_train_type):\n",
        "      super().__init__(model, price, horsepower, year, seats, off_road_capability)\n",
        "      self.drive_train_type = drive_train_type\n",
        "\n",
        "  def suv_info(self):\n",
        "      super().suv_info()\n",
        "      drive_type = [\"fwd\", \"front wheel drive\", \"rwd\", \"rear wheel drive\", \"awd\", \"all wheel drive\", \"4wd\", \"4 wheel drive\"]\n",
        "      if self.drive_train_type not in drive_type:\n",
        "        print(\"Invalid input, please enter fwd(front wheel drive), rwd(rear wheel drive) or awd(all wheel drive) / 4wd(4 wheel drive).\")\n",
        "      elif self.drive_train_type in [\"fwd\", \"front wheel drive\"]:\n",
        "        print(\"This car runs on the two front wheels and is fwd.\")\n",
        "      elif self.drive_train_type in [\"rwd\", \"rear wheel drive\"]:\n",
        "        print(\"This car runs on the two back wheels and is rwd.\")\n",
        "      else:\n",
        "        print(\"This car runs on all four wheels and is awd/4wd.\")\n",
        "\n",
        "class BMWX4Series(BMWSuvs):\n",
        "  def __init__(self, model, price, horsepower, year, seats, off_road_capability, engine_type):\n",
        "      super().__init__(model, price, horsepower, year, seats, off_road_capability)\n",
        "      self.engine_type = engine_type\n",
        "\n",
        "  def suv_info(self):\n",
        "      super().suv_info()\n",
        "      engine_types = [\"four-cylinder\", \"4-cylinder\", \"6-cylinder\", \"six-cylinder\"]\n",
        "      if self.engine_type not in engine_types:\n",
        "        print(\"Invalid input, please choose four-cylinder or six-cylinder\")\n",
        "      elif self.engine_type in [\"four-cylinder\", \"4-cylinder\"]:\n",
        "        print(f\"This car has a four-cylinder engine.\")\n",
        "      else:\n",
        "        print(f\"This car has a six-cylinder engine.\")\n",
        "\n",
        "class BMWLuxurySuvs(BMWSuvs):\n",
        "  def __init__(self, model, price, horsepower, year, seats, off_road_capability, backup_cameras):\n",
        "      super().__init__(model, price, horsepower, year, seats, off_road_capability)\n",
        "      self.backup_cameras = backup_cameras\n",
        "\n",
        "  def luxury_suv_info(self):\n",
        "      yes_no_backup_cameras_off_road = [\"yes\", \"y\", \"no\", \"n\"]\n",
        "      if self.backup_cameras not in yes_no_backup_cameras_off_road or self.off_road_capability not in yes_no_backup_cameras_off_road:\n",
        "        print(\"Invalid input, please enter yes(y) or no(n).\")\n",
        "      elif self.backup_cameras in [\"yes\", \"y\"] and self.off_road_capability in [\"yes\", \"y\"]:\n",
        "        print(f\"This is a {self.Brand} {self.model} SUV From the year {self.year} and it has {self.seats} seats, it also costs {self.price}{self.Dollar_sign} and the car also has {self.horsepower} horsepower, this car also has backup cameras and is a luxury car this car includes off road capability.\")\n",
        "      elif self.backup_cameras in [\"no\", \"n\"] and self.off_road_capability in [\"no\", \"n\"]:\n",
        "        print(f\"This is a {self.Brand} {self.model} SUV From the year {self.year} and it has {self.seats} seats, it also costs {self.price}{self.Dollar_sign} and the car also has {self.horsepower} horsepower and is a luxury car.\")\n",
        "      elif self.backup_cameras in [\"yes\", \"y\"] and self.off_road_capability in [\"no\", \"n\"]:\n",
        "        print(f\"This is a {self.Brand} {self.model} SUV From the year {self.year} and it has {self.seats} seats, it also costs {self.price}{self.Dollar_sign} and the car also has {self.horsepower} horsepower this car also has backup cameras and is a luxury car.\")\n",
        "      elif self.backup_cameras in [\"no\", \"n\"] and self.off_road_capability in [\"yes\", \"y\"]:\n",
        "        print(f\"This is a {self.Brand} {self.model} SUV From the year {self.year} and it has {self.seats} seats, it also costs {self.price}{self.Dollar_sign} and the car also has {self.horsepower} horsepower this car also includes off road capability and is a luxury car.\")\n",
        "\n",
        "class BMWX5Series(BMWLuxurySuvs):\n",
        "  def __init__(self, model, price, horsepower, year, seats, off_road_capability, backup_cameras, entertainment_system):\n",
        "    super().__init__(model, price, horsepower, year, seats, off_road_capability, backup_cameras)\n",
        "    self.entertainment_system = entertainment_system\n",
        "\n",
        "  def luxury_suv_info(self):\n",
        "      super().luxury_suv_info()\n",
        "      entertain_yes_no = [\"yes\", \"y\", \"no\", \"n\"]\n",
        "      if self.entertainment_system not in entertain_yes_no:\n",
        "        print(\"Invalid input, please choose yes(y) or no(n).\")\n",
        "      elif self.entertainment_system in [\"yes\", \"y\"]:\n",
        "        print(\"this car has an entertainment system with many features.\")\n",
        "      else:\n",
        "        print(\"This car does not include an entertainment system.\")\n",
        "\n",
        "class BMWX6Series(BMWLuxurySuvs):\n",
        "  def __init__(self, model, price, horsepower, year, seats, off_road_capability, backup_cameras, premium_audio_system, rear_seat_entertainment):\n",
        "      super().__init__(model, price, horsepower, year, seats, off_road_capability, backup_cameras)\n",
        "      self.premium_audio_system = premium_audio_system\n",
        "      self.rear_seat_entertainment = rear_seat_entertainment\n",
        "\n",
        "  def luxury_suv_info(self):\n",
        "      super().luxury_suv_info()\n",
        "      audio_rear_yes_no = [\"yes\", \"y\", \"no\", \"n\"]\n",
        "      if self.premium_audio_system not in audio_rear_yes_no or self.rear_seat_entertainment not in audio_rear_yes_no:\n",
        "        print(\"Invalid input, please choose yes(y) or no(n).\")\n",
        "      elif self.premium_audio_system in [\"yes\", \"y\"] and self.rear_seat_entertainment in [\"yes\", \"y\"]:\n",
        "        print(\"This car includes an premium audio system with high quality speakers and rear seat entertainment with high quality displays.\")\n",
        "      elif self.premium_audio_system in [\"no\", \"n\"] and self.rear_seat_entertainment in [\"yes\", \"y\"]:\n",
        "        print(\"This car does not include an premium audio system but it offers great rear seat entertainment.\")\n",
        "      elif self.premium_audio_system in [\"yes\", \"y\"] and self.rear_seat_entertainment in [\"no\", \"n\"]:\n",
        "        print(\"This car includes an premuim audio system but does not include the rear entertainment system.\")\n",
        "      elif self.premium_audio_system in [\"no\", \"n\"] and self.rear_seat_entertainment in [\"no\", \"n\"]:\n",
        "        print(\"This car does not include the premium audio system and neither the rear seat entertainment system.\")\n",
        "\n",
        "class BMWX7Series(BMWLuxurySuvs):\n",
        "  def __init__(self, model, price, horsepower, year, seats, off_road_capability, backup_cameras, panaromic_sunroof):\n",
        "      super().__init__(model, price, horsepower, year, seats, off_road_capability, backup_cameras)\n",
        "      self.panaromic_sunroof = panaromic_sunroof\n",
        "\n",
        "  def luxury_suv_info(self):\n",
        "      super().luxury_suv_info()\n",
        "      panaromic_yes_no = [\"yes\", \"y\", \"no\", \"n\"]\n",
        "      if self.panaromic_sunroof not in panaromic_yes_no:\n",
        "        print(\"Invalid input, please choose between yes(y) and no(n).\")\n",
        "      elif self.panaromic_sunroof in [\"yes\", \"y\"]:\n",
        "        print(\"This car has a panaromic sunroof on the roof of the car.\")\n",
        "      else:\n",
        "        print(\"This car does not include a panaromic sunroof.\")\n"
      ]
    },
    {
      "cell_type": "markdown",
      "metadata": {
        "id": "dnTya9sRYD1G"
      },
      "source": [
        "some examples of the cars you can make:\n",
        "(**you can make more if you want**)"
      ]
    },
    {
      "cell_type": "code",
      "execution_count": null,
      "metadata": {
        "id": "BegWe00c6JfC"
      },
      "outputs": [],
      "source": [
        "car1 = BMWX4Series(\"X4 M40i\", 63395, 382, 2023, 6, \"yes\", \"6-cylinder\")"
      ]
    },
    {
      "cell_type": "code",
      "execution_count": null,
      "metadata": {
        "colab": {
          "base_uri": "https://localhost:8080/"
        },
        "id": "qYUqD_Um6JkW",
        "outputId": "5897d14b-bf70-42b8-a090-5b1b5edfd5d7"
      },
      "outputs": [
        {
          "name": "stdout",
          "output_type": "stream",
          "text": [
            "This is a BMW X4 M40i SUV From the year 2023 and it has 6 seats, it also costs 63395$ and the car also has 382 horsepower, this car also has offroad capability \n",
            "This car has a six-cylinder engine.\n"
          ]
        }
      ],
      "source": [
        "car1.suv_info()"
      ]
    },
    {
      "cell_type": "code",
      "execution_count": null,
      "metadata": {
        "id": "9rAeh-54Uz8m"
      },
      "outputs": [],
      "source": [
        "car2 = BMW3Series(\"3 series 330i\", 58000, 245, 2022, 4, \"medium\", \"petrol\")"
      ]
    },
    {
      "cell_type": "code",
      "execution_count": null,
      "metadata": {
        "colab": {
          "base_uri": "https://localhost:8080/"
        },
        "id": "93XJaZnVU0Dd",
        "outputId": "06c16525-7e77-43fe-8c33-6a2562d7da5b"
      },
      "outputs": [
        {
          "name": "stdout",
          "output_type": "stream",
          "text": [
            "This is a BMW 3 series 330i Sedan From the year 2022 and it has 4 doors, it also costs 58000$ and the car also has 245 horsepower, this car has a large cabin inside.\n",
            "This car runs on petrol fuel.\n"
          ]
        }
      ],
      "source": [
        "car2.sedan_info()"
      ]
    },
    {
      "cell_type": "code",
      "execution_count": null,
      "metadata": {
        "id": "Q93mIhUjU0HO"
      },
      "outputs": [],
      "source": [
        "car3 = BMWX7Series(\"X7 M60i\", 146000, 530, 2024, 6, \"yes\", \"y\", \"no\")"
      ]
    },
    {
      "cell_type": "code",
      "execution_count": null,
      "metadata": {
        "colab": {
          "base_uri": "https://localhost:8080/"
        },
        "id": "EDeDYNArU0KW",
        "outputId": "730e3586-4326-4840-eda5-16a6fe31adb2"
      },
      "outputs": [
        {
          "name": "stdout",
          "output_type": "stream",
          "text": [
            "This is a BMW X7 M60i SUV From the year 2024 and it has 6 seats, it also costs 146000$ and the car also has 530 horsepower, this car also has backup cameras and is a luxury car this car includes off road capability.\n",
            "This car does not include a panaromic sunroof.\n"
          ]
        }
      ],
      "source": [
        "car3.luxury_suv_info()"
      ]
    },
    {
      "cell_type": "code",
      "execution_count": null,
      "metadata": {
        "id": "mxHI5lwLF3Nv"
      },
      "outputs": [],
      "source": [
        "car4 = BMWCars(\"3 Series\", 50000, 300, 2023)"
      ]
    },
    {
      "cell_type": "code",
      "execution_count": null,
      "metadata": {
        "colab": {
          "base_uri": "https://localhost:8080/"
        },
        "id": "PLvNUtwGF6C0",
        "outputId": "77c3b0bc-c3ef-4270-97d0-973ba5fc32e7"
      },
      "outputs": [
        {
          "name": "stdout",
          "output_type": "stream",
          "text": [
            "This is a BMW 3 Series and it costs 50000$. It has 300 horsepower and it was distributed in 2023.\n"
          ]
        }
      ],
      "source": [
        "car4.car_info()"
      ]
    },
    {
      "cell_type": "code",
      "execution_count": null,
      "metadata": {
        "colab": {
          "base_uri": "https://localhost:8080/",
          "height": 104
        },
        "id": "B_qS38IOL_7O",
        "outputId": "bfcd6f68-3036-473e-8d47-bb98a292710b"
      },
      "outputs": [
        {
          "data": {
            "text/html": [
              "<div style=\"max-width:800px; border: 1px solid var(--colab-border-color);\"><style>\n",
              "      pre.function-repr-contents {\n",
              "        overflow-x: auto;\n",
              "        padding: 8px 12px;\n",
              "        max-height: 500px;\n",
              "      }\n",
              "\n",
              "      pre.function-repr-contents.function-repr-contents-collapsed {\n",
              "        cursor: pointer;\n",
              "        max-height: 100px;\n",
              "      }\n",
              "    </style>\n",
              "    <pre style=\"white-space: initial; background:\n",
              "         var(--colab-secondary-surface-color); padding: 8px 12px;\n",
              "         border-bottom: 1px solid var(--colab-border-color);\"><b>BMWCars.update_cars_made</b><br/>def update_cars_made()</pre><pre class=\"function-repr-contents function-repr-contents-collapsed\" style=\"\"><a class=\"filepath\" style=\"display:none\" href=\"#\">/content/&lt;ipython-input-80-b98cda75cc77&gt;</a>&lt;no docstring&gt;</pre></div>"
            ],
            "text/plain": [
              "<bound method BMWCars.update_cars_made of <__main__.BMWX4Series object at 0x7d7cde94fa30>>"
            ]
          },
          "execution_count": 89,
          "metadata": {},
          "output_type": "execute_result"
        }
      ],
      "source": [
        "car1.update_cars_made"
      ]
    },
    {
      "cell_type": "code",
      "execution_count": null,
      "metadata": {
        "id": "KuBFpWoJMzk8"
      },
      "outputs": [],
      "source": [
        "car5 = BMWX4Series(\"X4 M40i\", 46875, 279, 2016, 4, \"no\", \"4-cylinder\")"
      ]
    },
    {
      "cell_type": "code",
      "execution_count": null,
      "metadata": {
        "colab": {
          "base_uri": "https://localhost:8080/",
          "height": 472
        },
        "id": "4R72yOHSMdRF",
        "outputId": "1898ae56-0e2a-44a2-e5bf-662b687051b0"
      },
      "outputs": [
        {
          "data": {
            "image/png": "[encoded data removed]",
            "text/plain": [
              "<Figure size 640x480 with 1 Axes>"
            ]
          },
          "metadata": {},
          "output_type": "display_data"
        }
      ],
      "source": [
        "BMWCars.bar_cars_made()"
      ]
    },
    {
      "cell_type": "markdown",
      "metadata": {
        "id": "Q2Rwo2IoNEfI"
      },
      "source": [
        "**This is the new bar chart i added**"
      ]
    },
    {
      "cell_type": "markdown",
      "metadata": {
        "id": "69HoC3nvYYG9"
      },
      "source": [
        "And thats it!\n",
        "\n",
        "hope you enjoyed this weeks assignment!\n",
        "\n"
      ]
    }
  ],
  "metadata": {
    "colab": {
      "provenance": []
    },
    "kernelspec": {
      "display_name": "Python 3",
      "name": "python3"
    },
    "language_info": {
      "name": "python"
    }
  },
  "nbformat": 4,
  "nbformat_minor": 0
}
